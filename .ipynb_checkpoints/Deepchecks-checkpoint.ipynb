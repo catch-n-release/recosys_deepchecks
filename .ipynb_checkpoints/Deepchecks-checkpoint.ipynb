{
 "cells": [
  {
   "cell_type": "code",
   "execution_count": null,
   "id": "abc0d8e0",
   "metadata": {},
   "outputs": [],
   "source": [
    "from surprise import SVD\n",
    "import numpy as np\n",
    "from surprise import Reader, accuracy\n",
    "from surprise import Dataset as SurpDataset\n",
    "import pandas as pd\n",
    "from deepchecks.tabular import Dataset\n",
    "from deepchecks.tabular.checks import ColumnsInfo, DataDuplicates, FeatureFeatureCorrelation,IsSingleValue\n",
    "from deepchecks.utils.json_utils import from_json"
   ]
  },
  {
   "cell_type": "code",
   "execution_count": null,
   "id": "48807295",
   "metadata": {},
   "outputs": [],
   "source": [
    "movies_df=pd.read_csv(\"../data/movie_log_25k.csv\")\n",
    "movies_df.head()"
   ]
  },
  {
   "cell_type": "code",
   "execution_count": null,
   "id": "93176c3e",
   "metadata": {},
   "outputs": [],
   "source": [
    "no_rows,no_columns=movies_df.shape\n",
    "no_rows,no_columns"
   ]
  },
  {
   "cell_type": "code",
   "execution_count": null,
   "id": "d55b0d85",
   "metadata": {},
   "outputs": [],
   "source": [
    "movies_dataset_dc=Dataset(movies_df,cat_features=[\"movie_name\",\"movie_year\"], datetime_name=\"timestamp\",\n",
    "                         index_name=\"Unnamed: 0\", label=\"movie_rating\", label_type=\"regression\")"
   ]
  },
  {
   "cell_type": "markdown",
   "id": "082feecb",
   "metadata": {},
   "source": [
    "# "
   ]
  },
  {
   "cell_type": "markdown",
   "id": "69051ce9",
   "metadata": {},
   "source": [
    "### Column Info Test"
   ]
  },
  {
   "cell_type": "code",
   "execution_count": null,
   "id": "2aa8c8d9",
   "metadata": {},
   "outputs": [],
   "source": [
    "\n",
    "column_info_check=ColumnsInfo()\n",
    "# column_info_check.add_condition(\"num_columns_check\",lambda x:len(x.items()))\n",
    "column_info_check_result=column_info_check.run(dataset=movies_dataset_dc)\n",
    "column_info_check_result.passed_conditions()"
   ]
  },
  {
   "cell_type": "code",
   "execution_count": null,
   "id": "ffc38b27",
   "metadata": {},
   "outputs": [],
   "source": [
    "column_info_check_result.show(as_widget=False)"
   ]
  },
  {
   "cell_type": "markdown",
   "id": "a33cd494",
   "metadata": {},
   "source": [
    "### Data Duplicate Test"
   ]
  },
  {
   "cell_type": "code",
   "execution_count": null,
   "id": "06fdb3f2",
   "metadata": {},
   "outputs": [],
   "source": [
    "data_duplicate_check=DataDuplicates(n_samples=no_rows)\n",
    "data_duplicate_check.run(movies_dataset_dc)"
   ]
  },
  {
   "cell_type": "markdown",
   "id": "648d4919",
   "metadata": {},
   "source": [
    "### Feature Feature Correlation"
   ]
  },
  {
   "cell_type": "code",
   "execution_count": null,
   "id": "2da0de31",
   "metadata": {},
   "outputs": [],
   "source": [
    "ff_corr_check=FeatureFeatureCorrelation(n_samples=no_rows)\n"
   ]
  },
  {
   "cell_type": "code",
   "execution_count": null,
   "id": "b17c224e",
   "metadata": {},
   "outputs": [],
   "source": [
    "ff_corr_check.add_condition_max_number_of_pairs_above_threshold(0.7)\n"
   ]
  },
  {
   "cell_type": "code",
   "execution_count": null,
   "id": "0f026f3f",
   "metadata": {},
   "outputs": [],
   "source": [
    "ff_corr_check_result=ff_corr_check.run(movies_dataset_dc)"
   ]
  },
  {
   "cell_type": "code",
   "execution_count": null,
   "id": "e8cf24a4",
   "metadata": {},
   "outputs": [],
   "source": [
    "ff_corr_check_result.show(as_widget=False)"
   ]
  },
  {
   "cell_type": "code",
   "execution_count": null,
   "id": "ce9821c6",
   "metadata": {},
   "outputs": [],
   "source": [
    "ff_corr_check_result.passed_conditions()"
   ]
  },
  {
   "cell_type": "code",
   "execution_count": null,
   "id": "acea80f9",
   "metadata": {},
   "outputs": [],
   "source": [
    "# Since Movie year and name are highly coorelated we can remove movie year"
   ]
  },
  {
   "cell_type": "markdown",
   "id": "a9131896",
   "metadata": {},
   "source": [
    "### Is Column Single Valued?"
   ]
  },
  {
   "cell_type": "code",
   "execution_count": null,
   "id": "a6ad3243",
   "metadata": {},
   "outputs": [],
   "source": [
    "isv_check=IsSingleValue(n_samples=no_rows)\n",
    "isv_check.run(movies_dataset_dc).show(as_widget=False)"
   ]
  },
  {
   "cell_type": "markdown",
   "id": "2293aa8a",
   "metadata": {},
   "source": [
    "### Mixed Data Type"
   ]
  },
  {
   "cell_type": "code",
   "execution_count": null,
   "id": "550e2b41",
   "metadata": {},
   "outputs": [],
   "source": [
    "from deepchecks.tabular.checks import MixedDataTypes"
   ]
  },
  {
   "cell_type": "code",
   "execution_count": null,
   "id": "22e4c50b",
   "metadata": {},
   "outputs": [],
   "source": [
    "mdt_check=MixedDataTypes(n_samples=no_rows)\n",
    "mdt_check.run(movies_dataset_dc).show(as_widget=False)"
   ]
  },
  {
   "cell_type": "markdown",
   "id": "df247bb8",
   "metadata": {},
   "source": [
    "### Mixed Nulls"
   ]
  },
  {
   "cell_type": "code",
   "execution_count": null,
   "id": "0815e826",
   "metadata": {},
   "outputs": [],
   "source": [
    "from deepchecks.tabular.checks import MixedNulls"
   ]
  },
  {
   "cell_type": "code",
   "execution_count": null,
   "id": "890e308f",
   "metadata": {},
   "outputs": [],
   "source": [
    "mn_check=MixedNulls(n_samples=no_rows)\n",
    "mn_check.run(movies_dataset_dc).show(as_widget=False)"
   ]
  },
  {
   "cell_type": "code",
   "execution_count": null,
   "id": "5a62cf5d-2dc1-4fc4-a764-9997909aedb3",
   "metadata": {},
   "outputs": [],
   "source": []
  },
  {
   "cell_type": "code",
   "execution_count": null,
   "id": "58b58b3b",
   "metadata": {},
   "outputs": [],
   "source": [
    "# We will now have to remove movie year"
   ]
  },
  {
   "cell_type": "code",
   "execution_count": null,
   "id": "4560a82d",
   "metadata": {},
   "outputs": [],
   "source": [
    "movies_df.drop(columns=[\"movie_year\",\"Unnamed: 0\",\"request\",\"event\",], inplace=True)\n",
    "movies_df.head()"
   ]
  },
  {
   "cell_type": "code",
   "execution_count": null,
   "id": "9ae80c07",
   "metadata": {},
   "outputs": [],
   "source": [
    "movies_dataset_dc=Dataset(movies_df,label=\"movie_rating\",cat_features=[\"movie_name\"], datetime_name=\"timestamp\",label_type=\"regression\")"
   ]
  },
  {
   "cell_type": "markdown",
   "id": "33d7a02e",
   "metadata": {},
   "source": [
    "### Pecent of Nulls for each column"
   ]
  },
  {
   "cell_type": "code",
   "execution_count": null,
   "id": "dff6b48e",
   "metadata": {},
   "outputs": [],
   "source": [
    "from deepchecks.tabular.checks.data_integrity import PercentOfNulls"
   ]
  },
  {
   "cell_type": "code",
   "execution_count": null,
   "id": "0b77f1fc",
   "metadata": {},
   "outputs": [],
   "source": [
    "pon_check=PercentOfNulls(n_samples=no_rows)\n",
    "pon_check.run(movies_dataset_dc)"
   ]
  },
  {
   "cell_type": "markdown",
   "id": "f61e0548",
   "metadata": {},
   "source": [
    "### String Mismatch"
   ]
  },
  {
   "cell_type": "code",
   "execution_count": null,
   "id": "23006ff1",
   "metadata": {},
   "outputs": [],
   "source": [
    "from deepchecks.tabular.checks import StringMismatch"
   ]
  },
  {
   "cell_type": "code",
   "execution_count": null,
   "id": "03ef256f",
   "metadata": {},
   "outputs": [],
   "source": [
    "sm_check=StringMismatch(n_samples=no_rows)\n",
    "sm_check.run(movies_dataset_dc).show(as_widget=False)"
   ]
  },
  {
   "cell_type": "code",
   "execution_count": null,
   "id": "3acf0409-45b3-48cc-8b52-236a47bd61ee",
   "metadata": {},
   "outputs": [],
   "source": [
    "from deepchecks.tabular.suites import data_integrity"
   ]
  },
  {
   "cell_type": "code",
   "execution_count": null,
   "id": "39849768-4885-45d8-a511-f93b441ecfec",
   "metadata": {},
   "outputs": [],
   "source": [
    "di_suite=data_integrity()\n",
    "di_suite_result=di_suite.run(movies_dataset_dc)"
   ]
  },
  {
   "cell_type": "code",
   "execution_count": null,
   "id": "30c4f2b0-efef-4f25-91c4-209c664723f8",
   "metadata": {},
   "outputs": [],
   "source": [
    "type(di_suite_result.get_not_passed_checks())"
   ]
  },
  {
   "cell_type": "code",
   "execution_count": null,
   "id": "2cb67688-521e-480f-9464-59b17c9fc6e6",
   "metadata": {
    "scrolled": false
   },
   "outputs": [],
   "source": [
    "di_suite_result.show(as_widget=False)"
   ]
  },
  {
   "cell_type": "markdown",
   "id": "b5b14a3f",
   "metadata": {},
   "source": [
    "# Train Test Validation"
   ]
  },
  {
   "cell_type": "code",
   "execution_count": null,
   "id": "c9b92913",
   "metadata": {},
   "outputs": [],
   "source": [
    "train_data,test_data=movies_dataset_dc.train_test_split()"
   ]
  },
  {
   "cell_type": "code",
   "execution_count": null,
   "id": "9b1022bd-169c-4842-ac51-47ba83b5cbfb",
   "metadata": {},
   "outputs": [],
   "source": [
    "type(train_data)"
   ]
  },
  {
   "cell_type": "markdown",
   "id": "283ad339",
   "metadata": {},
   "source": [
    "### New Category"
   ]
  },
  {
   "cell_type": "code",
   "execution_count": null,
   "id": "2a83afe8",
   "metadata": {},
   "outputs": [],
   "source": [
    "from deepchecks.tabular.checks import CategoryMismatchTrainTest"
   ]
  },
  {
   "cell_type": "code",
   "execution_count": null,
   "id": "b8781d86",
   "metadata": {},
   "outputs": [],
   "source": [
    "cmtt_check=CategoryMismatchTrainTest(n_samples=no_rows)\n",
    "cmtt_check.add_condition_new_category_ratio_less_or_equal(0.05)\n",
    "cmtt_check_result=cmtt_check.run(train_data,test_data)\n",
    "cmtt_check_result.show(as_widget=False)"
   ]
  },
  {
   "cell_type": "code",
   "execution_count": null,
   "id": "f2f0267f",
   "metadata": {},
   "outputs": [],
   "source": [
    "cmtt_check_result.passed_conditions()"
   ]
  },
  {
   "cell_type": "markdown",
   "id": "fdf4ca8e",
   "metadata": {},
   "source": [
    "### Dataset Size Comparison"
   ]
  },
  {
   "cell_type": "code",
   "execution_count": null,
   "id": "bb1a49f4",
   "metadata": {},
   "outputs": [],
   "source": [
    "from deepchecks.tabular.checks import DatasetsSizeComparison"
   ]
  },
  {
   "cell_type": "code",
   "execution_count": null,
   "id": "aebaf856",
   "metadata": {},
   "outputs": [],
   "source": [
    "dsc_check=DatasetsSizeComparison()\n",
    "dsc_check.run(train_data,test_data).show(as_widget=False)"
   ]
  },
  {
   "cell_type": "markdown",
   "id": "5a836b46",
   "metadata": {},
   "source": [
    "### Date Train Test Leakage Overlap"
   ]
  },
  {
   "cell_type": "code",
   "execution_count": null,
   "id": "04996445",
   "metadata": {},
   "outputs": [],
   "source": [
    "from deepchecks.tabular.checks import DateTrainTestLeakageOverlap"
   ]
  },
  {
   "cell_type": "code",
   "execution_count": null,
   "id": "7f531be4",
   "metadata": {},
   "outputs": [],
   "source": [
    "dttlo_check=DateTrainTestLeakageOverlap(n_samples=no_rows)\n",
    "dttlo_check.run(train_data,test_data).show(as_widget=False)"
   ]
  },
  {
   "cell_type": "markdown",
   "id": "d3d2cb62",
   "metadata": {},
   "source": [
    "### String Mismatch Comparison"
   ]
  },
  {
   "cell_type": "code",
   "execution_count": null,
   "id": "100e1d09",
   "metadata": {},
   "outputs": [],
   "source": [
    "from  deepchecks.tabular.checks import StringMismatchComparison"
   ]
  },
  {
   "cell_type": "code",
   "execution_count": null,
   "id": "55fde8fc",
   "metadata": {},
   "outputs": [],
   "source": [
    "smc_check=StringMismatchComparison(n_samples=no_rows)\n",
    "smc_check.run(train_data,test_data).show(as_widget=False)"
   ]
  },
  {
   "cell_type": "markdown",
   "id": "38b824c8",
   "metadata": {},
   "source": [
    "### Train Test Feature Drift"
   ]
  },
  {
   "cell_type": "code",
   "execution_count": null,
   "id": "660dd4a1",
   "metadata": {},
   "outputs": [],
   "source": [
    "from  deepchecks.tabular.checks import TrainTestFeatureDrift"
   ]
  },
  {
   "cell_type": "code",
   "execution_count": null,
   "id": "5bedb70c",
   "metadata": {},
   "outputs": [],
   "source": [
    "ttfd_check=TrainTestFeatureDrift(n_samples=no_rows)\n",
    "ttfd_check_result=ttfd_check.run(train_data,test_data)\n",
    "ttfd_check_result.show(as_widget=False)"
   ]
  },
  {
   "cell_type": "code",
   "execution_count": null,
   "id": "7c46f312",
   "metadata": {},
   "outputs": [],
   "source": [
    "ttfd_check_result.reduce_output()"
   ]
  },
  {
   "cell_type": "markdown",
   "id": "54f88dce",
   "metadata": {},
   "source": [
    "### Train Test Sample Mix Check"
   ]
  },
  {
   "cell_type": "code",
   "execution_count": null,
   "id": "01528e67",
   "metadata": {},
   "outputs": [],
   "source": [
    "from deepchecks.tabular.checks import TrainTestSamplesMix"
   ]
  },
  {
   "cell_type": "code",
   "execution_count": null,
   "id": "ddaf1141",
   "metadata": {},
   "outputs": [],
   "source": [
    "ttsm_check=TrainTestSamplesMix(n_samples=no_rows)\n",
    "ttsm_check_result=ttsm_check.run(train_data,test_data)\n",
    "ttsm_check_result.show(as_widget=False)"
   ]
  },
  {
   "cell_type": "markdown",
   "id": "3f219ec7",
   "metadata": {},
   "source": [
    "# Model Eval"
   ]
  },
  {
   "cell_type": "markdown",
   "id": "0f122dd6",
   "metadata": {},
   "source": [
    "## Model Training"
   ]
  },
  {
   "cell_type": "code",
   "execution_count": null,
   "id": "83f6bfd7",
   "metadata": {},
   "outputs": [],
   "source": [
    "reader = Reader(rating_scale=(1,5))"
   ]
  },
  {
   "cell_type": "code",
   "execution_count": null,
   "id": "c606a18d",
   "metadata": {},
   "outputs": [],
   "source": [
    "surp_train_data = SurpDataset.load_from_df(train_data.data[['user_id', 'movie_name', 'movie_rating']], reader)\n",
    "surp_test_data = SurpDataset.load_from_df(test_data.data[['user_id', 'movie_name', 'movie_rating']], reader)"
   ]
  },
  {
   "cell_type": "code",
   "execution_count": null,
   "id": "fb7b6ad6",
   "metadata": {},
   "outputs": [],
   "source": [
    "surp_trainset=surp_train_data.build_full_trainset()\n",
    "surp_testset=surp_test_data.build_full_trainset()"
   ]
  },
  {
   "cell_type": "code",
   "execution_count": null,
   "id": "91088f62",
   "metadata": {},
   "outputs": [],
   "source": [
    "surp_trainset,surp_testset"
   ]
  },
  {
   "cell_type": "code",
   "execution_count": null,
   "id": "e43c9c89",
   "metadata": {},
   "outputs": [],
   "source": [
    "svd = SVD(n_factors=100, biased=True, random_state=15, verbose=True)\n",
    "svd.fit(surp_trainset)\n"
   ]
  },
  {
   "cell_type": "code",
   "execution_count": null,
   "id": "61ea9cd9",
   "metadata": {},
   "outputs": [],
   "source": [
    "surp_testset_train=surp_trainset.build_testset()\n",
    "surp_testset_test=surp_testset.build_testset()"
   ]
  },
  {
   "cell_type": "code",
   "execution_count": null,
   "id": "5d6f65cd",
   "metadata": {},
   "outputs": [],
   "source": [
    "surp_train_preds=svd.test(surp_testset_train)\n",
    "surp_test_preds=svd.test(surp_testset_test)"
   ]
  },
  {
   "cell_type": "code",
   "execution_count": null,
   "id": "c2550266",
   "metadata": {},
   "outputs": [],
   "source": [
    "accuracy.rmse(surp_train_preds)"
   ]
  },
  {
   "cell_type": "code",
   "execution_count": null,
   "id": "38745de4",
   "metadata": {},
   "outputs": [],
   "source": [
    "accuracy.rmse(surp_test_preds)"
   ]
  },
  {
   "cell_type": "code",
   "execution_count": null,
   "id": "11eb5b8d",
   "metadata": {},
   "outputs": [],
   "source": [
    "accuracy.mse(surp_test_preds)"
   ]
  },
  {
   "cell_type": "markdown",
   "id": "2f138753",
   "metadata": {},
   "source": [
    "### Model Inference Time"
   ]
  },
  {
   "cell_type": "code",
   "execution_count": null,
   "id": "1f5693b0",
   "metadata": {},
   "outputs": [],
   "source": [
    "from deepchecks.tabular.checks import ModelInferenceTime"
   ]
  },
  {
   "cell_type": "code",
   "execution_count": null,
   "id": "0c1f1ceb",
   "metadata": {},
   "outputs": [],
   "source": [
    "mit_check=ModelInferenceTime(n_samples=no_rows)\n"
   ]
  },
  {
   "cell_type": "code",
   "execution_count": null,
   "id": "c201e4fe",
   "metadata": {
    "scrolled": true
   },
   "outputs": [],
   "source": [
    "mit_check_result=mit_check.run(test_data,model=svd)"
   ]
  },
  {
   "cell_type": "code",
   "execution_count": null,
   "id": "0c342b6f",
   "metadata": {},
   "outputs": [],
   "source": [
    "mit_check_result.show(as_widget=False)"
   ]
  },
  {
   "cell_type": "markdown",
   "id": "1504a665",
   "metadata": {},
   "source": [
    "### Model Info"
   ]
  },
  {
   "cell_type": "code",
   "execution_count": null,
   "id": "3b3cbcc3",
   "metadata": {},
   "outputs": [],
   "source": [
    "from deepchecks.tabular.checks import ModelInfo"
   ]
  },
  {
   "cell_type": "code",
   "execution_count": null,
   "id": "25999e3a",
   "metadata": {},
   "outputs": [],
   "source": [
    "mi_check=ModelInfo()\n",
    "mi_check_result=mi_check.run(svd)"
   ]
  },
  {
   "cell_type": "code",
   "execution_count": null,
   "id": "0c31f51a",
   "metadata": {},
   "outputs": [],
   "source": [
    "mi_check_result.show(as_widget=False)"
   ]
  },
  {
   "cell_type": "markdown",
   "id": "69d9e3a1",
   "metadata": {},
   "source": [
    "### Regression Error Distribution & Systematic Error  (may not be for our case)"
   ]
  },
  {
   "cell_type": "code",
   "execution_count": null,
   "id": "cd43bc31",
   "metadata": {},
   "outputs": [],
   "source": [
    "from deepchecks.tabular.checks import RegressionErrorDistribution"
   ]
  },
  {
   "cell_type": "code",
   "execution_count": null,
   "id": "cd83f464",
   "metadata": {
    "scrolled": true
   },
   "outputs": [],
   "source": [
    "red_check=RegressionErrorDistribution(n_samples=no_rows)"
   ]
  },
  {
   "cell_type": "code",
   "execution_count": null,
   "id": "084f6bf4",
   "metadata": {},
   "outputs": [],
   "source": [
    "red_check_train_result=red_check.run(train_data,svd)\n",
    "red_check_train_result.show(as_widget=False)"
   ]
  },
  {
   "cell_type": "code",
   "execution_count": null,
   "id": "ed16ce7b",
   "metadata": {},
   "outputs": [],
   "source": [
    "red_check_test_result=red_check.run(test_data,svd)\n",
    "red_check_test_result.show(as_widget=False)"
   ]
  },
  {
   "cell_type": "markdown",
   "id": "90e2ba09",
   "metadata": {},
   "source": [
    "### Regression Systematic Error"
   ]
  },
  {
   "cell_type": "code",
   "execution_count": null,
   "id": "225c2ee7",
   "metadata": {},
   "outputs": [],
   "source": [
    "from deepchecks.tabular.checks import RegressionSystematicError"
   ]
  },
  {
   "cell_type": "code",
   "execution_count": null,
   "id": "36f380b3",
   "metadata": {},
   "outputs": [],
   "source": [
    "rse_check=RegressionSystematicError(n_samples=no_rows)"
   ]
  },
  {
   "cell_type": "code",
   "execution_count": null,
   "id": "48335917",
   "metadata": {},
   "outputs": [],
   "source": [
    "rse_check_result_train=rse_check.run(train_data,svd)\n",
    "rse_check_result_test=rse_check.run(test_data,svd)"
   ]
  },
  {
   "cell_type": "code",
   "execution_count": null,
   "id": "1eceb2e6",
   "metadata": {},
   "outputs": [],
   "source": [
    "rse_check_result_train.show(as_widget=False)"
   ]
  },
  {
   "cell_type": "code",
   "execution_count": null,
   "id": "7c85960e",
   "metadata": {},
   "outputs": [],
   "source": [
    "rse_check_result_test.show(as_widget=False)"
   ]
  },
  {
   "cell_type": "markdown",
   "id": "ccbe3a2b",
   "metadata": {},
   "source": [
    "### Simple Model Comparison"
   ]
  },
  {
   "cell_type": "code",
   "execution_count": null,
   "id": "08db1a60",
   "metadata": {},
   "outputs": [],
   "source": [
    "from deepchecks.tabular.checks import SimpleModelComparison"
   ]
  },
  {
   "cell_type": "code",
   "execution_count": null,
   "id": "eb18e821",
   "metadata": {},
   "outputs": [],
   "source": [
    "sdc_check=SimpleModelComparison(strategy=\"tree\", alternative_scorers=['neg_rmse',\n",
    "                                        'neg_mae',\n",
    "                                        'r2'], n_samples=20000, max_depth=3)"
   ]
  },
  {
   "cell_type": "code",
   "execution_count": null,
   "id": "f36bf802",
   "metadata": {},
   "outputs": [],
   "source": [
    "sdc_check_result=sdc_check.run(train_data,test_data,svd)\n"
   ]
  },
  {
   "cell_type": "code",
   "execution_count": null,
   "id": "709f24d0",
   "metadata": {},
   "outputs": [],
   "source": [
    "sdc_check_result.show(as_widget=False)"
   ]
  },
  {
   "cell_type": "markdown",
   "id": "6f0ac8e6",
   "metadata": {},
   "source": [
    "### Single Dataset Performance"
   ]
  },
  {
   "cell_type": "code",
   "execution_count": null,
   "id": "d5c7864e",
   "metadata": {},
   "outputs": [],
   "source": [
    "from deepchecks.tabular.checks import SingleDatasetPerformance"
   ]
  },
  {
   "cell_type": "code",
   "execution_count": null,
   "id": "37c5bb06",
   "metadata": {},
   "outputs": [],
   "source": [
    "sdp_check=SingleDatasetPerformance(n_samples=no_rows)\n"
   ]
  },
  {
   "cell_type": "code",
   "execution_count": null,
   "id": "a3015f21",
   "metadata": {},
   "outputs": [],
   "source": [
    "sdp_check_result_train=sdp_check.run(train_data,svd)\n",
    "sdp_check_result_train.show(as_widget=False)"
   ]
  },
  {
   "cell_type": "code",
   "execution_count": null,
   "id": "128051d3",
   "metadata": {},
   "outputs": [],
   "source": [
    "sdp_check_result_test=sdp_check.run(test_data,svd)\n",
    "sdp_check_result_test.show(as_widget=False)"
   ]
  },
  {
   "cell_type": "markdown",
   "id": "ffb1220d",
   "metadata": {},
   "source": [
    "### Train Test Performance"
   ]
  },
  {
   "cell_type": "code",
   "execution_count": null,
   "id": "45b83e41",
   "metadata": {},
   "outputs": [],
   "source": [
    "from deepchecks.tabular.checks import TrainTestPerformance"
   ]
  },
  {
   "cell_type": "code",
   "execution_count": null,
   "id": "6374bbeb",
   "metadata": {},
   "outputs": [],
   "source": [
    "ttp_check=TrainTestPerformance(n_samples=no_rows,scorers=['neg_root_mean_squared_error',\n",
    "                                        'neg_mean_absolute_error',\n",
    "                                        'r2'])"
   ]
  },
  {
   "cell_type": "code",
   "execution_count": null,
   "id": "d37d1f3c",
   "metadata": {},
   "outputs": [],
   "source": [
    "ttp_check_result=ttp_check.run(train_data,test_data,svd)\n",
    "ttp_check_result.show(as_widget=False)"
   ]
  },
  {
   "cell_type": "markdown",
   "id": "a53e4d44",
   "metadata": {},
   "source": [
    "### Train Test Prediction Drift"
   ]
  },
  {
   "cell_type": "code",
   "execution_count": null,
   "id": "41e37bd3",
   "metadata": {},
   "outputs": [],
   "source": [
    "from deepchecks.tabular.checks import TrainTestPredictionDrift"
   ]
  },
  {
   "cell_type": "code",
   "execution_count": null,
   "id": "db55b7ed",
   "metadata": {},
   "outputs": [],
   "source": [
    "ttpd_check=TrainTestPredictionDrift(n_samples=no_rows)"
   ]
  },
  {
   "cell_type": "code",
   "execution_count": null,
   "id": "b53297f6",
   "metadata": {},
   "outputs": [],
   "source": [
    "ttpd_check_result=ttpd_check.run(train_data,test_data,svd)\n",
    "ttpd_check_result.show(as_widget=False)"
   ]
  },
  {
   "cell_type": "code",
   "execution_count": null,
   "id": "53d1e4f2",
   "metadata": {},
   "outputs": [],
   "source": []
  }
 ],
 "metadata": {
  "kernelspec": {
   "display_name": "Python 3 (ipykernel)",
   "language": "python",
   "name": "python3"
  },
  "language_info": {
   "codemirror_mode": {
    "name": "ipython",
    "version": 3
   },
   "file_extension": ".py",
   "mimetype": "text/x-python",
   "name": "python",
   "nbconvert_exporter": "python",
   "pygments_lexer": "ipython3",
   "version": "3.9.12"
  }
 },
 "nbformat": 4,
 "nbformat_minor": 5
}
