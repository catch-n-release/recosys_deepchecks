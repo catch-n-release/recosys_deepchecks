{
 "cells": [
  {
   "cell_type": "code",
   "execution_count": 1,
   "id": "abc0d8e0",
   "metadata": {},
   "outputs": [],
   "source": [
    "from surprise import SVD\n",
    "import numpy as np\n",
    "from surprise import Reader, accuracy\n",
    "from surprise import Dataset as SurpDataset\n",
    "import pandas as pd\n",
    "from deepchecks.tabular import Dataset\n",
    "from deepchecks.tabular.checks import ColumnsInfo, DataDuplicates, FeatureFeatureCorrelation,IsSingleValue\n",
    "from deepchecks.utils.json_utils import from_json"
   ]
  },
  {
   "cell_type": "code",
   "execution_count": 2,
   "id": "48807295",
   "metadata": {},
   "outputs": [
    {
     "data": {
      "text/html": [
       "<div>\n",
       "<style scoped>\n",
       "    .dataframe tbody tr th:only-of-type {\n",
       "        vertical-align: middle;\n",
       "    }\n",
       "\n",
       "    .dataframe tbody tr th {\n",
       "        vertical-align: top;\n",
       "    }\n",
       "\n",
       "    .dataframe thead th {\n",
       "        text-align: right;\n",
       "    }\n",
       "</style>\n",
       "<table border=\"1\" class=\"dataframe\">\n",
       "  <thead>\n",
       "    <tr style=\"text-align: right;\">\n",
       "      <th></th>\n",
       "      <th>Unnamed: 0</th>\n",
       "      <th>event</th>\n",
       "      <th>timestamp</th>\n",
       "      <th>user_id</th>\n",
       "      <th>request</th>\n",
       "      <th>movie_name</th>\n",
       "      <th>movie_rating</th>\n",
       "      <th>movie_year</th>\n",
       "    </tr>\n",
       "  </thead>\n",
       "  <tbody>\n",
       "    <tr>\n",
       "      <th>0</th>\n",
       "      <td>0</td>\n",
       "      <td>2022-09-25T16:09:49,51852,GET /rate/the+usual+...</td>\n",
       "      <td>2022-09-25T16:09:49</td>\n",
       "      <td>51852</td>\n",
       "      <td>GET /rate/the+usual+suspects+1995=5</td>\n",
       "      <td>the+usual+suspects+1995</td>\n",
       "      <td>5</td>\n",
       "      <td>1995.0</td>\n",
       "    </tr>\n",
       "    <tr>\n",
       "      <th>1</th>\n",
       "      <td>1</td>\n",
       "      <td>2022-09-25T16:09:55,146497,GET /rate/north+sea...</td>\n",
       "      <td>2022-09-25T16:09:55</td>\n",
       "      <td>146497</td>\n",
       "      <td>GET /rate/north+sea+texas+2011=4</td>\n",
       "      <td>north+sea+texas+2011</td>\n",
       "      <td>4</td>\n",
       "      <td>2011.0</td>\n",
       "    </tr>\n",
       "    <tr>\n",
       "      <th>2</th>\n",
       "      <td>2</td>\n",
       "      <td>2022-09-25T16:09:57,359974,GET /rate/schindler...</td>\n",
       "      <td>2022-09-25T16:09:57</td>\n",
       "      <td>359974</td>\n",
       "      <td>GET /rate/schindlers+list+1993=4</td>\n",
       "      <td>schindlers+list+1993</td>\n",
       "      <td>4</td>\n",
       "      <td>1993.0</td>\n",
       "    </tr>\n",
       "    <tr>\n",
       "      <th>3</th>\n",
       "      <td>3</td>\n",
       "      <td>2022-09-25T16:10,208901,GET /rate/the+shawshan...</td>\n",
       "      <td>2022-09-25T16:10</td>\n",
       "      <td>208901</td>\n",
       "      <td>GET /rate/the+shawshank+redemption+1994=5</td>\n",
       "      <td>the+shawshank+redemption+1994</td>\n",
       "      <td>5</td>\n",
       "      <td>1994.0</td>\n",
       "    </tr>\n",
       "    <tr>\n",
       "      <th>4</th>\n",
       "      <td>4</td>\n",
       "      <td>2022-09-25T16:10:03,281786,GET /rate/my+neighb...</td>\n",
       "      <td>2022-09-25T16:10:03</td>\n",
       "      <td>281786</td>\n",
       "      <td>GET /rate/my+neighbor+totoro+1988=3</td>\n",
       "      <td>my+neighbor+totoro+1988</td>\n",
       "      <td>3</td>\n",
       "      <td>1988.0</td>\n",
       "    </tr>\n",
       "  </tbody>\n",
       "</table>\n",
       "</div>"
      ],
      "text/plain": [
       "   Unnamed: 0                                              event  \\\n",
       "0           0  2022-09-25T16:09:49,51852,GET /rate/the+usual+...   \n",
       "1           1  2022-09-25T16:09:55,146497,GET /rate/north+sea...   \n",
       "2           2  2022-09-25T16:09:57,359974,GET /rate/schindler...   \n",
       "3           3  2022-09-25T16:10,208901,GET /rate/the+shawshan...   \n",
       "4           4  2022-09-25T16:10:03,281786,GET /rate/my+neighb...   \n",
       "\n",
       "             timestamp  user_id                                    request  \\\n",
       "0  2022-09-25T16:09:49    51852        GET /rate/the+usual+suspects+1995=5   \n",
       "1  2022-09-25T16:09:55   146497           GET /rate/north+sea+texas+2011=4   \n",
       "2  2022-09-25T16:09:57   359974           GET /rate/schindlers+list+1993=4   \n",
       "3     2022-09-25T16:10   208901  GET /rate/the+shawshank+redemption+1994=5   \n",
       "4  2022-09-25T16:10:03   281786        GET /rate/my+neighbor+totoro+1988=3   \n",
       "\n",
       "                      movie_name  movie_rating  movie_year  \n",
       "0        the+usual+suspects+1995             5      1995.0  \n",
       "1           north+sea+texas+2011             4      2011.0  \n",
       "2           schindlers+list+1993             4      1993.0  \n",
       "3  the+shawshank+redemption+1994             5      1994.0  \n",
       "4        my+neighbor+totoro+1988             3      1988.0  "
      ]
     },
     "execution_count": 2,
     "metadata": {},
     "output_type": "execute_result"
    }
   ],
   "source": [
    "movies_df=pd.read_csv(\"../data/movie_log_25k.csv\")\n",
    "movies_df.head()"
   ]
  },
  {
   "cell_type": "code",
   "execution_count": 3,
   "id": "93176c3e",
   "metadata": {},
   "outputs": [
    {
     "data": {
      "text/plain": [
       "(294086, 8)"
      ]
     },
     "execution_count": 3,
     "metadata": {},
     "output_type": "execute_result"
    }
   ],
   "source": [
    "no_rows,no_columns=movies_df.shape\n",
    "no_rows,no_columns"
   ]
  },
  {
   "cell_type": "code",
   "execution_count": 4,
   "id": "d55b0d85",
   "metadata": {},
   "outputs": [],
   "source": [
    "movies_dataset_dc=Dataset(movies_df,cat_features=[\"movie_name\",\"movie_year\"], datetime_name=\"timestamp\",\n",
    "                         index_name=\"Unnamed: 0\", label=\"movie_rating\", label_type=\"regression\")"
   ]
  },
  {
   "cell_type": "code",
   "execution_count": 5,
   "id": "c28ee676",
   "metadata": {},
   "outputs": [
    {
     "data": {
      "text/plain": [
       "deepchecks.tabular.dataset.Dataset"
      ]
     },
     "execution_count": 5,
     "metadata": {},
     "output_type": "execute_result"
    }
   ],
   "source": [
    "type(movies_dataset_dc)"
   ]
  },
  {
   "cell_type": "markdown",
   "id": "082feecb",
   "metadata": {},
   "source": [
    "# "
   ]
  },
  {
   "cell_type": "markdown",
   "id": "69051ce9",
   "metadata": {},
   "source": [
    "### Column Info Test"
   ]
  },
  {
   "cell_type": "code",
   "execution_count": 6,
   "id": "2aa8c8d9",
   "metadata": {},
   "outputs": [
    {
     "data": {
      "text/plain": [
       "True"
      ]
     },
     "execution_count": 6,
     "metadata": {},
     "output_type": "execute_result"
    }
   ],
   "source": [
    "\n",
    "column_info_check=ColumnsInfo()\n",
    "# column_info_check.add_condition(\"num_columns_check\",lambda x:len(x.items()))\n",
    "column_info_check_result=column_info_check.run(dataset=movies_dataset_dc)\n",
    "column_info_check_result.passed_conditions()"
   ]
  },
  {
   "cell_type": "code",
   "execution_count": 8,
   "id": "ffc38b27",
   "metadata": {},
   "outputs": [
    {
     "data": {
      "application/vnd.jupyter.widget-view+json": {
       "model_id": "c980ff2467934059830aef42372525ac",
       "version_major": 2,
       "version_minor": 0
      },
      "text/plain": [
       "VBox(children=(HTML(value='<h4><b>Columns Info</b></h4>'), HTML(value='<p>Return the role and logical type of …"
      ]
     },
     "metadata": {},
     "output_type": "display_data"
    }
   ],
   "source": [
    "column_info_check_result.show()"
   ]
  },
  {
   "cell_type": "markdown",
   "id": "a33cd494",
   "metadata": {},
   "source": [
    "### Data Duplicate Test"
   ]
  },
  {
   "cell_type": "code",
   "execution_count": 9,
   "id": "06fdb3f2",
   "metadata": {},
   "outputs": [
    {
     "data": {
      "application/vnd.jupyter.widget-view+json": {
       "model_id": "b1ed30bab47644b6978a28c084b18c77",
       "version_major": 2,
       "version_minor": 0
      },
      "text/plain": [
       "VBox(children=(HTML(value='<h4><b>Data Duplicates</b></h4>'), HTML(value='<p>Checks for duplicate samples in t…"
      ]
     },
     "metadata": {},
     "output_type": "display_data"
    }
   ],
   "source": [
    "data_duplicate_check=DataDuplicates(n_samples=no_rows)\n",
    "data_duplicate_check.run(movies_dataset_dc)"
   ]
  },
  {
   "cell_type": "markdown",
   "id": "648d4919",
   "metadata": {},
   "source": [
    "### Feature Feature Correlation"
   ]
  },
  {
   "cell_type": "code",
   "execution_count": 10,
   "id": "2da0de31",
   "metadata": {},
   "outputs": [],
   "source": [
    "ff_corr_check=FeatureFeatureCorrelation(n_samples=no_rows)\n"
   ]
  },
  {
   "cell_type": "code",
   "execution_count": 11,
   "id": "b17c224e",
   "metadata": {},
   "outputs": [
    {
     "data": {
      "text/plain": [
       "FeatureFeatureCorrelation(n_samples=294086)\n",
       "\tConditions:\n",
       "\t\t0: Not more than 0 pairs are correlated above 0.7"
      ]
     },
     "execution_count": 11,
     "metadata": {},
     "output_type": "execute_result"
    }
   ],
   "source": [
    "ff_corr_check.add_condition_max_number_of_pairs_above_threshold(0.7)\n"
   ]
  },
  {
   "cell_type": "code",
   "execution_count": 12,
   "id": "0f026f3f",
   "metadata": {},
   "outputs": [],
   "source": [
    "ff_corr_check_result=ff_corr_check.run(movies_dataset_dc)"
   ]
  },
  {
   "cell_type": "code",
   "execution_count": 13,
   "id": "e8cf24a4",
   "metadata": {},
   "outputs": [
    {
     "data": {
      "application/vnd.jupyter.widget-view+json": {
       "model_id": "95a1f1d9530e4489b8e8f5285be5cc67",
       "version_major": 2,
       "version_minor": 0
      },
      "text/plain": [
       "VBox(children=(HTML(value='<h4><b>Feature-Feature Correlation</b></h4>'), HTML(value='<p>    Checks for pairwi…"
      ]
     },
     "metadata": {},
     "output_type": "display_data"
    }
   ],
   "source": [
    "ff_corr_check_result"
   ]
  },
  {
   "cell_type": "code",
   "execution_count": 14,
   "id": "ce9821c6",
   "metadata": {},
   "outputs": [
    {
     "data": {
      "text/plain": [
       "False"
      ]
     },
     "execution_count": 14,
     "metadata": {},
     "output_type": "execute_result"
    }
   ],
   "source": [
    "ff_corr_check_result.passed_conditions()"
   ]
  },
  {
   "cell_type": "code",
   "execution_count": 15,
   "id": "acea80f9",
   "metadata": {},
   "outputs": [],
   "source": [
    "# Since Movie year and name are highly coorelated we can remove movie year"
   ]
  },
  {
   "cell_type": "markdown",
   "id": "a9131896",
   "metadata": {},
   "source": [
    "### Is Column Single Valued?"
   ]
  },
  {
   "cell_type": "code",
   "execution_count": 16,
   "id": "a6ad3243",
   "metadata": {},
   "outputs": [
    {
     "data": {
      "application/vnd.jupyter.widget-view+json": {
       "model_id": "6b80b61eeeb840f08411d917ff2daf9c",
       "version_major": 2,
       "version_minor": 0
      },
      "text/plain": [
       "VBox(children=(HTML(value='<h4><b>Single Value in Column</b></h4>'), HTML(value='<p>Check if there are columns…"
      ]
     },
     "metadata": {},
     "output_type": "display_data"
    }
   ],
   "source": [
    "isv_check=IsSingleValue(n_samples=no_rows)\n",
    "isv_check.run(movies_dataset_dc)"
   ]
  },
  {
   "cell_type": "markdown",
   "id": "2293aa8a",
   "metadata": {},
   "source": [
    "### Mixed Data Type"
   ]
  },
  {
   "cell_type": "code",
   "execution_count": 17,
   "id": "550e2b41",
   "metadata": {},
   "outputs": [],
   "source": [
    "from deepchecks.tabular.checks import MixedDataTypes"
   ]
  },
  {
   "cell_type": "code",
   "execution_count": 18,
   "id": "22e4c50b",
   "metadata": {},
   "outputs": [
    {
     "data": {
      "application/vnd.jupyter.widget-view+json": {
       "model_id": "fa01e37465ee431987d56fc164b557f3",
       "version_major": 2,
       "version_minor": 0
      },
      "text/plain": [
       "VBox(children=(HTML(value='<h4><b>Mixed Data Types</b></h4>'), HTML(value='<p>Detect columns which contain a m…"
      ]
     },
     "metadata": {},
     "output_type": "display_data"
    }
   ],
   "source": [
    "mdt_check=MixedDataTypes(n_samples=no_rows)\n",
    "mdt_check.run(movies_dataset_dc)"
   ]
  },
  {
   "cell_type": "markdown",
   "id": "df247bb8",
   "metadata": {},
   "source": [
    "### Mixed Nulls"
   ]
  },
  {
   "cell_type": "code",
   "execution_count": 19,
   "id": "0815e826",
   "metadata": {},
   "outputs": [],
   "source": [
    "from deepchecks.tabular.checks import MixedNulls"
   ]
  },
  {
   "cell_type": "code",
   "execution_count": 20,
   "id": "890e308f",
   "metadata": {},
   "outputs": [
    {
     "data": {
      "application/vnd.jupyter.widget-view+json": {
       "model_id": "13fc404807b349f291674448b86e08eb",
       "version_major": 2,
       "version_minor": 0
      },
      "text/plain": [
       "VBox(children=(HTML(value='<h4><b>Mixed Nulls</b></h4>'), HTML(value='<p>Search for various types of null valu…"
      ]
     },
     "metadata": {},
     "output_type": "display_data"
    }
   ],
   "source": [
    "mn_check=MixedNulls(n_samples=no_rows)\n",
    "mn_check.run(movies_dataset_dc)"
   ]
  },
  {
   "cell_type": "code",
   "execution_count": null,
   "id": "5a62cf5d-2dc1-4fc4-a764-9997909aedb3",
   "metadata": {},
   "outputs": [],
   "source": []
  },
  {
   "cell_type": "code",
   "execution_count": 21,
   "id": "58b58b3b",
   "metadata": {},
   "outputs": [],
   "source": [
    "# We will now have to remove movie year"
   ]
  },
  {
   "cell_type": "code",
   "execution_count": 22,
   "id": "4560a82d",
   "metadata": {},
   "outputs": [
    {
     "data": {
      "text/html": [
       "<div>\n",
       "<style scoped>\n",
       "    .dataframe tbody tr th:only-of-type {\n",
       "        vertical-align: middle;\n",
       "    }\n",
       "\n",
       "    .dataframe tbody tr th {\n",
       "        vertical-align: top;\n",
       "    }\n",
       "\n",
       "    .dataframe thead th {\n",
       "        text-align: right;\n",
       "    }\n",
       "</style>\n",
       "<table border=\"1\" class=\"dataframe\">\n",
       "  <thead>\n",
       "    <tr style=\"text-align: right;\">\n",
       "      <th></th>\n",
       "      <th>timestamp</th>\n",
       "      <th>user_id</th>\n",
       "      <th>movie_name</th>\n",
       "      <th>movie_rating</th>\n",
       "    </tr>\n",
       "  </thead>\n",
       "  <tbody>\n",
       "    <tr>\n",
       "      <th>0</th>\n",
       "      <td>2022-09-25T16:09:49</td>\n",
       "      <td>51852</td>\n",
       "      <td>the+usual+suspects+1995</td>\n",
       "      <td>5</td>\n",
       "    </tr>\n",
       "    <tr>\n",
       "      <th>1</th>\n",
       "      <td>2022-09-25T16:09:55</td>\n",
       "      <td>146497</td>\n",
       "      <td>north+sea+texas+2011</td>\n",
       "      <td>4</td>\n",
       "    </tr>\n",
       "    <tr>\n",
       "      <th>2</th>\n",
       "      <td>2022-09-25T16:09:57</td>\n",
       "      <td>359974</td>\n",
       "      <td>schindlers+list+1993</td>\n",
       "      <td>4</td>\n",
       "    </tr>\n",
       "    <tr>\n",
       "      <th>3</th>\n",
       "      <td>2022-09-25T16:10</td>\n",
       "      <td>208901</td>\n",
       "      <td>the+shawshank+redemption+1994</td>\n",
       "      <td>5</td>\n",
       "    </tr>\n",
       "    <tr>\n",
       "      <th>4</th>\n",
       "      <td>2022-09-25T16:10:03</td>\n",
       "      <td>281786</td>\n",
       "      <td>my+neighbor+totoro+1988</td>\n",
       "      <td>3</td>\n",
       "    </tr>\n",
       "  </tbody>\n",
       "</table>\n",
       "</div>"
      ],
      "text/plain": [
       "             timestamp  user_id                     movie_name  movie_rating\n",
       "0  2022-09-25T16:09:49    51852        the+usual+suspects+1995             5\n",
       "1  2022-09-25T16:09:55   146497           north+sea+texas+2011             4\n",
       "2  2022-09-25T16:09:57   359974           schindlers+list+1993             4\n",
       "3     2022-09-25T16:10   208901  the+shawshank+redemption+1994             5\n",
       "4  2022-09-25T16:10:03   281786        my+neighbor+totoro+1988             3"
      ]
     },
     "execution_count": 22,
     "metadata": {},
     "output_type": "execute_result"
    }
   ],
   "source": [
    "movies_df.drop(columns=[\"movie_year\",\"Unnamed: 0\",\"request\",\"event\",], inplace=True)\n",
    "movies_df.head()"
   ]
  },
  {
   "cell_type": "code",
   "execution_count": 23,
   "id": "9ae80c07",
   "metadata": {},
   "outputs": [],
   "source": [
    "movies_dataset_dc=Dataset(movies_df,label=\"movie_rating\",cat_features=[\"movie_name\"], datetime_name=\"timestamp\",label_type=\"regression\")"
   ]
  },
  {
   "cell_type": "markdown",
   "id": "33d7a02e",
   "metadata": {},
   "source": [
    "### Pecent of Nulls for each column"
   ]
  },
  {
   "cell_type": "code",
   "execution_count": 24,
   "id": "dff6b48e",
   "metadata": {},
   "outputs": [],
   "source": [
    "from deepchecks.tabular.checks.data_integrity import PercentOfNulls"
   ]
  },
  {
   "cell_type": "code",
   "execution_count": 25,
   "id": "0b77f1fc",
   "metadata": {},
   "outputs": [
    {
     "data": {
      "application/vnd.jupyter.widget-view+json": {
       "model_id": "11e0a3a579ec4fe6a100234bcbe2f34b",
       "version_major": 2,
       "version_minor": 0
      },
      "text/plain": [
       "VBox(children=(HTML(value='<h4><b>PercentOfNulls</b></h4>'), HTML(value='<p>Percent of \\'Null\\' values in each…"
      ]
     },
     "metadata": {},
     "output_type": "display_data"
    }
   ],
   "source": [
    "pon_check=PercentOfNulls(n_samples=no_rows)\n",
    "pon_check.run(movies_dataset_dc)"
   ]
  },
  {
   "cell_type": "markdown",
   "id": "f61e0548",
   "metadata": {},
   "source": [
    "### String Mismatch"
   ]
  },
  {
   "cell_type": "code",
   "execution_count": 26,
   "id": "23006ff1",
   "metadata": {},
   "outputs": [],
   "source": [
    "from deepchecks.tabular.checks import StringMismatch"
   ]
  },
  {
   "cell_type": "code",
   "execution_count": 27,
   "id": "03ef256f",
   "metadata": {},
   "outputs": [
    {
     "data": {
      "application/vnd.jupyter.widget-view+json": {
       "model_id": "6f3a267b63c24cc29212ae3d6f8cb513",
       "version_major": 2,
       "version_minor": 0
      },
      "text/plain": [
       "VBox(children=(HTML(value='<h4><b>String Mismatch</b></h4>'), HTML(value='<p>Detect different variants of stri…"
      ]
     },
     "metadata": {},
     "output_type": "display_data"
    }
   ],
   "source": [
    "sm_check=StringMismatch(n_samples=no_rows)\n",
    "sm_check.run(movies_dataset_dc)"
   ]
  },
  {
   "cell_type": "code",
   "execution_count": 28,
   "id": "3acf0409-45b3-48cc-8b52-236a47bd61ee",
   "metadata": {},
   "outputs": [],
   "source": [
    "from deepchecks.tabular.suites import data_integrity"
   ]
  },
  {
   "cell_type": "code",
   "execution_count": 29,
   "id": "39849768-4885-45d8-a511-f93b441ecfec",
   "metadata": {},
   "outputs": [
    {
     "data": {
      "text/html": [
       "\n",
       "    <style>\n",
       "        progress {\n",
       "            -webkit-appearance: none;\n",
       "            border: none;\n",
       "            border-radius: 3px;\n",
       "            width: 300px;\n",
       "            height: 20px;\n",
       "            vertical-align: middle;\n",
       "            margin-right: 10px;\n",
       "            background-color: aliceblue;\n",
       "        }\n",
       "        progress::-webkit-progress-bar {\n",
       "            border-radius: 3px;\n",
       "            background-color: aliceblue;\n",
       "        }\n",
       "        progress::-webkit-progress-value {\n",
       "            background-color: #9d60fb;\n",
       "        }\n",
       "        progress::-moz-progress-bar {\n",
       "            background-color: #9d60fb;\n",
       "        }\n",
       "    </style>\n",
       "    "
      ]
     },
     "metadata": {},
     "output_type": "display_data"
    },
    {
     "data": {
      "text/html": []
     },
     "metadata": {},
     "output_type": "display_data"
    }
   ],
   "source": [
    "di_suite=data_integrity()\n",
    "di_suite_result=di_suite.run(movies_dataset_dc)"
   ]
  },
  {
   "cell_type": "code",
   "execution_count": 30,
   "id": "30c4f2b0-efef-4f25-91c4-209c664723f8",
   "metadata": {},
   "outputs": [
    {
     "data": {
      "text/plain": [
       "list"
      ]
     },
     "execution_count": 30,
     "metadata": {},
     "output_type": "execute_result"
    }
   ],
   "source": [
    "type(di_suite_result.get_not_passed_checks())"
   ]
  },
  {
   "cell_type": "code",
   "execution_count": null,
   "id": "2cb67688-521e-480f-9464-59b17c9fc6e6",
   "metadata": {},
   "outputs": [],
   "source": []
  },
  {
   "cell_type": "markdown",
   "id": "b5b14a3f",
   "metadata": {},
   "source": [
    "# Train Test Validation"
   ]
  },
  {
   "cell_type": "code",
   "execution_count": 31,
   "id": "c9b92913",
   "metadata": {},
   "outputs": [],
   "source": [
    "train_data,test_data=movies_dataset_dc.train_test_split()"
   ]
  },
  {
   "cell_type": "code",
   "execution_count": 32,
   "id": "9b1022bd-169c-4842-ac51-47ba83b5cbfb",
   "metadata": {},
   "outputs": [
    {
     "data": {
      "text/plain": [
       "deepchecks.tabular.dataset.Dataset"
      ]
     },
     "execution_count": 32,
     "metadata": {},
     "output_type": "execute_result"
    }
   ],
   "source": [
    "type(train_data)"
   ]
  },
  {
   "cell_type": "markdown",
   "id": "283ad339",
   "metadata": {},
   "source": [
    "### New Category"
   ]
  },
  {
   "cell_type": "code",
   "execution_count": 33,
   "id": "2a83afe8",
   "metadata": {},
   "outputs": [],
   "source": [
    "from deepchecks.tabular.checks import CategoryMismatchTrainTest"
   ]
  },
  {
   "cell_type": "code",
   "execution_count": 34,
   "id": "b8781d86",
   "metadata": {
    "scrolled": true
   },
   "outputs": [
    {
     "data": {
      "application/vnd.jupyter.widget-view+json": {
       "model_id": "495680f3df55499bbe6f4d320cf4803f",
       "version_major": 2,
       "version_minor": 0
      },
      "text/plain": [
       "VBox(children=(HTML(value='<h4><b>Category Mismatch Train Test</b></h4>'), HTML(value='<p>Find new categories …"
      ]
     },
     "metadata": {},
     "output_type": "display_data"
    }
   ],
   "source": [
    "cmtt_check=CategoryMismatchTrainTest(n_samples=no_rows)\n",
    "cmtt_check.add_condition_new_category_ratio_less_or_equal(0.05)\n",
    "cmtt_check_result=cmtt_check.run(train_data,test_data)\n",
    "cmtt_check_result"
   ]
  },
  {
   "cell_type": "code",
   "execution_count": 35,
   "id": "f2f0267f",
   "metadata": {},
   "outputs": [
    {
     "data": {
      "text/plain": [
       "True"
      ]
     },
     "execution_count": 35,
     "metadata": {},
     "output_type": "execute_result"
    }
   ],
   "source": [
    "cmtt_check_result.passed_conditions()"
   ]
  },
  {
   "cell_type": "markdown",
   "id": "fdf4ca8e",
   "metadata": {},
   "source": [
    "### Dataset Size Comparison"
   ]
  },
  {
   "cell_type": "code",
   "execution_count": 36,
   "id": "bb1a49f4",
   "metadata": {},
   "outputs": [],
   "source": [
    "from deepchecks.tabular.checks import DatasetsSizeComparison"
   ]
  },
  {
   "cell_type": "code",
   "execution_count": 37,
   "id": "aebaf856",
   "metadata": {},
   "outputs": [
    {
     "data": {
      "application/vnd.jupyter.widget-view+json": {
       "model_id": "78df7380768a4054b85fae3ccaa6dd07",
       "version_major": 2,
       "version_minor": 0
      },
      "text/plain": [
       "VBox(children=(HTML(value='<h4><b>Datasets Size Comparison</b></h4>'), HTML(value='<p>Verify test dataset size…"
      ]
     },
     "metadata": {},
     "output_type": "display_data"
    }
   ],
   "source": [
    "dsc_check=DatasetsSizeComparison()\n",
    "dsc_check.run(train_data,test_data)"
   ]
  },
  {
   "cell_type": "markdown",
   "id": "5a836b46",
   "metadata": {},
   "source": [
    "### Date Train Test Leakage Overlap"
   ]
  },
  {
   "cell_type": "code",
   "execution_count": 38,
   "id": "04996445",
   "metadata": {},
   "outputs": [],
   "source": [
    "from deepchecks.tabular.checks import DateTrainTestLeakageOverlap"
   ]
  },
  {
   "cell_type": "code",
   "execution_count": 39,
   "id": "7f531be4",
   "metadata": {},
   "outputs": [
    {
     "data": {
      "application/vnd.jupyter.widget-view+json": {
       "model_id": "0c015976b94248f3863b39b9947c9c38",
       "version_major": 2,
       "version_minor": 0
      },
      "text/plain": [
       "VBox(children=(HTML(value='<h4><b>Date Train-Test Leakage (overlap)</b></h4>'), HTML(value='<p>Check test data…"
      ]
     },
     "metadata": {},
     "output_type": "display_data"
    }
   ],
   "source": [
    "dttlo_check=DateTrainTestLeakageOverlap(n_samples=no_rows)\n",
    "dttlo_check.run(train_data,test_data)"
   ]
  },
  {
   "cell_type": "markdown",
   "id": "d3d2cb62",
   "metadata": {},
   "source": [
    "### String Mismatch Comparison"
   ]
  },
  {
   "cell_type": "code",
   "execution_count": 40,
   "id": "100e1d09",
   "metadata": {},
   "outputs": [],
   "source": [
    "from  deepchecks.tabular.checks import StringMismatchComparison"
   ]
  },
  {
   "cell_type": "code",
   "execution_count": 41,
   "id": "55fde8fc",
   "metadata": {},
   "outputs": [
    {
     "data": {
      "application/vnd.jupyter.widget-view+json": {
       "model_id": "355c9ce7f29f49a396d04752598d3587",
       "version_major": 2,
       "version_minor": 0
      },
      "text/plain": [
       "VBox(children=(HTML(value='<h4><b>String Mismatch Comparison</b></h4>'), HTML(value='<p>Detect different varia…"
      ]
     },
     "metadata": {},
     "output_type": "display_data"
    }
   ],
   "source": [
    "smc_check=StringMismatchComparison(n_samples=no_rows)\n",
    "smc_check.run(train_data,test_data)"
   ]
  },
  {
   "cell_type": "markdown",
   "id": "38b824c8",
   "metadata": {},
   "source": [
    "### Train Test Feature Drift"
   ]
  },
  {
   "cell_type": "code",
   "execution_count": 42,
   "id": "660dd4a1",
   "metadata": {},
   "outputs": [],
   "source": [
    "from  deepchecks.tabular.checks import TrainTestFeatureDrift"
   ]
  },
  {
   "cell_type": "code",
   "execution_count": 43,
   "id": "5bedb70c",
   "metadata": {},
   "outputs": [
    {
     "data": {
      "application/vnd.jupyter.widget-view+json": {
       "model_id": "9f7976be41f94b67bbfc3740c68a9ef3",
       "version_major": 2,
       "version_minor": 0
      },
      "text/plain": [
       "VBox(children=(HTML(value='<h4><b>Train Test Feature Drift</b></h4>'), HTML(value='<p>    Calculate drift betw…"
      ]
     },
     "metadata": {},
     "output_type": "display_data"
    }
   ],
   "source": [
    "ttfd_check=TrainTestFeatureDrift(n_samples=no_rows)\n",
    "ttfd_check_result=ttfd_check.run(train_data,test_data)\n",
    "ttfd_check_result"
   ]
  },
  {
   "cell_type": "code",
   "execution_count": 44,
   "id": "7c46f312",
   "metadata": {},
   "outputs": [
    {
     "name": "stderr",
     "output_type": "stream",
     "text": [
      "deepchecks - WARNING - Failed to calculate feature importance to all features, using uniform mean instead.\n"
     ]
    },
    {
     "data": {
      "text/plain": [
       "{'Mean Drift Score': 0.002161994647539447}"
      ]
     },
     "execution_count": 44,
     "metadata": {},
     "output_type": "execute_result"
    }
   ],
   "source": [
    "ttfd_check_result.reduce_output()"
   ]
  },
  {
   "cell_type": "markdown",
   "id": "54f88dce",
   "metadata": {},
   "source": [
    "### Train Test Sample Mix Check"
   ]
  },
  {
   "cell_type": "code",
   "execution_count": 45,
   "id": "01528e67",
   "metadata": {},
   "outputs": [],
   "source": [
    "from deepchecks.tabular.checks import TrainTestSamplesMix"
   ]
  },
  {
   "cell_type": "code",
   "execution_count": 46,
   "id": "ddaf1141",
   "metadata": {},
   "outputs": [
    {
     "data": {
      "application/vnd.jupyter.widget-view+json": {
       "model_id": "15485c6a3e3b442ea02131378d8c2a01",
       "version_major": 2,
       "version_minor": 0
      },
      "text/plain": [
       "VBox(children=(HTML(value='<h4><b>Train Test Samples Mix</b></h4>'), HTML(value='<p>Detect samples in the test…"
      ]
     },
     "metadata": {},
     "output_type": "display_data"
    }
   ],
   "source": [
    "ttsm_check=TrainTestSamplesMix(n_samples=no_rows)\n",
    "ttsm_check_result=ttsm_check.run(train_data,test_data)\n",
    "ttsm_check_result"
   ]
  },
  {
   "cell_type": "markdown",
   "id": "3f219ec7",
   "metadata": {},
   "source": [
    "# Model Eval"
   ]
  },
  {
   "cell_type": "markdown",
   "id": "0f122dd6",
   "metadata": {},
   "source": [
    "## Model Training"
   ]
  },
  {
   "cell_type": "code",
   "execution_count": 47,
   "id": "83f6bfd7",
   "metadata": {},
   "outputs": [],
   "source": [
    "reader = Reader(rating_scale=(1,5))"
   ]
  },
  {
   "cell_type": "code",
   "execution_count": 48,
   "id": "c606a18d",
   "metadata": {},
   "outputs": [],
   "source": [
    "surp_train_data = SurpDataset.load_from_df(train_data.data[['user_id', 'movie_name', 'movie_rating']], reader)\n",
    "surp_test_data = SurpDataset.load_from_df(test_data.data[['user_id', 'movie_name', 'movie_rating']], reader)"
   ]
  },
  {
   "cell_type": "code",
   "execution_count": 49,
   "id": "fb7b6ad6",
   "metadata": {},
   "outputs": [],
   "source": [
    "surp_trainset=surp_train_data.build_full_trainset()\n",
    "surp_testset=surp_test_data.build_full_trainset()"
   ]
  },
  {
   "cell_type": "code",
   "execution_count": 50,
   "id": "91088f62",
   "metadata": {},
   "outputs": [
    {
     "data": {
      "text/plain": [
       "(<surprise.trainset.Trainset at 0x288aedfd0>,\n",
       " <surprise.trainset.Trainset at 0x2888b9af0>)"
      ]
     },
     "execution_count": 50,
     "metadata": {},
     "output_type": "execute_result"
    }
   ],
   "source": [
    "surp_trainset,surp_testset"
   ]
  },
  {
   "cell_type": "code",
   "execution_count": 51,
   "id": "e43c9c89",
   "metadata": {},
   "outputs": [
    {
     "name": "stdout",
     "output_type": "stream",
     "text": [
      "Processing epoch 0\n",
      "Processing epoch 1\n",
      "Processing epoch 2\n",
      "Processing epoch 3\n",
      "Processing epoch 4\n",
      "Processing epoch 5\n",
      "Processing epoch 6\n",
      "Processing epoch 7\n",
      "Processing epoch 8\n",
      "Processing epoch 9\n",
      "Processing epoch 10\n",
      "Processing epoch 11\n",
      "Processing epoch 12\n",
      "Processing epoch 13\n",
      "Processing epoch 14\n",
      "Processing epoch 15\n",
      "Processing epoch 16\n",
      "Processing epoch 17\n",
      "Processing epoch 18\n",
      "Processing epoch 19\n"
     ]
    },
    {
     "data": {
      "text/plain": [
       "<surprise.prediction_algorithms.matrix_factorization.SVD at 0x2917de0d0>"
      ]
     },
     "execution_count": 51,
     "metadata": {},
     "output_type": "execute_result"
    }
   ],
   "source": [
    "svd = SVD(n_factors=100, biased=True, random_state=15, verbose=True)\n",
    "svd.fit(surp_trainset)\n",
    "# svd.fit(surp_testset)"
   ]
  },
  {
   "cell_type": "code",
   "execution_count": null,
   "id": "eb295a12",
   "metadata": {},
   "outputs": [],
   "source": [
    "# a=surp_trainset.build_anti_testset()"
   ]
  },
  {
   "cell_type": "code",
   "execution_count": 52,
   "id": "61ea9cd9",
   "metadata": {},
   "outputs": [],
   "source": [
    "surp_testset_train=surp_trainset.build_testset()\n",
    "surp_testset_test=surp_testset.build_testset()"
   ]
  },
  {
   "cell_type": "code",
   "execution_count": 53,
   "id": "5d6f65cd",
   "metadata": {},
   "outputs": [],
   "source": [
    "surp_train_preds=svd.test(surp_testset_train)\n",
    "surp_test_preds=svd.test(surp_testset_test)"
   ]
  },
  {
   "cell_type": "code",
   "execution_count": 54,
   "id": "7e14b481",
   "metadata": {},
   "outputs": [],
   "source": [
    "# accuracy.mse()"
   ]
  },
  {
   "cell_type": "code",
   "execution_count": 55,
   "id": "c2550266",
   "metadata": {},
   "outputs": [
    {
     "name": "stdout",
     "output_type": "stream",
     "text": [
      "RMSE: 0.5547\n"
     ]
    },
    {
     "data": {
      "text/plain": [
       "0.5546664048917587"
      ]
     },
     "execution_count": 55,
     "metadata": {},
     "output_type": "execute_result"
    }
   ],
   "source": [
    "accuracy.rmse(surp_train_preds)"
   ]
  },
  {
   "cell_type": "code",
   "execution_count": 56,
   "id": "38745de4",
   "metadata": {},
   "outputs": [
    {
     "name": "stdout",
     "output_type": "stream",
     "text": [
      "RMSE: 0.6839\n"
     ]
    },
    {
     "data": {
      "text/plain": [
       "0.6838776752442276"
      ]
     },
     "execution_count": 56,
     "metadata": {},
     "output_type": "execute_result"
    }
   ],
   "source": [
    "accuracy.rmse(surp_test_preds)"
   ]
  },
  {
   "cell_type": "code",
   "execution_count": 57,
   "id": "11eb5b8d",
   "metadata": {},
   "outputs": [
    {
     "name": "stdout",
     "output_type": "stream",
     "text": [
      "MSE: 0.4677\n"
     ]
    },
    {
     "data": {
      "text/plain": [
       "0.46768867469744924"
      ]
     },
     "execution_count": 57,
     "metadata": {},
     "output_type": "execute_result"
    }
   ],
   "source": [
    "accuracy.mse(surp_test_preds)"
   ]
  },
  {
   "cell_type": "code",
   "execution_count": 58,
   "id": "857bb20d",
   "metadata": {},
   "outputs": [],
   "source": [
    "class SurpModelWrapper:\n",
    "    \n",
    "    def __init__(self, surp_model):\n",
    "        self.model=surp_model\n",
    "        \n",
    "    def predict(self, data: pd.DataFrame) -> np.ndarray:\n",
    "        # Implement based on base model's API.\n",
    "        reader = Reader(rating_scale=(1,5))\n",
    "#         print(data.columns)\n",
    "#         data['movie_rating'] = data.get('movie_rating', self.targets) if self.targets else pd.Series([0]*data.shape[0])\n",
    "\n",
    "\n",
    "#         if \"movie_rating\" not in data.columns.to_list():\n",
    "#             print(\"Missing ratings\")\n",
    "#             if not self.targets.empty:\n",
    "#                 print(\"adding given ratings\")\n",
    "#                 data[\"movie_rating\"]=self.targets\n",
    "#             else:\n",
    "#                 print(\"adding ratings as 0\")\n",
    "#                 data[\"movie_rating\"]=pd.Series([0]*data.shape[0])\n",
    "\n",
    "        data[\"movie_rating\"]=pd.Series([0]*data.shape[0])    \n",
    "        surp_data = SurpDataset.load_from_df(data[['user_id', 'movie_name', 'movie_rating']], reader)\n",
    "        surp_test_data=surp_data.build_full_trainset().build_testset()\n",
    "            \n",
    "        predictions = self.model.test(surp_test_data)\n",
    "        return np.array([pred.est for pred in predictions])\n",
    "        \n",
    "    def predict_proba(self, data: pd.DataFrame) -> np.ndarray:\n",
    "        # Implement based on base model's API, only required for classification tasks.\n",
    "        ...\n",
    "    @property\n",
    "    def feature_importances_(self) -> pd.Series:  # optional\n",
    "        # Return a pandas Series with feature names as index and their corresponding importance as values.\n",
    "        ...\n",
    "\n"
   ]
  },
  {
   "cell_type": "code",
   "execution_count": 60,
   "id": "e8264f8e",
   "metadata": {},
   "outputs": [],
   "source": [
    "svd=SurpModelWrapper(svd)"
   ]
  },
  {
   "cell_type": "markdown",
   "id": "2f138753",
   "metadata": {},
   "source": [
    "### Model Inference Time"
   ]
  },
  {
   "cell_type": "code",
   "execution_count": 61,
   "id": "1f5693b0",
   "metadata": {},
   "outputs": [],
   "source": [
    "from deepchecks.tabular.checks import ModelInferenceTime"
   ]
  },
  {
   "cell_type": "code",
   "execution_count": 63,
   "id": "0c1f1ceb",
   "metadata": {},
   "outputs": [],
   "source": [
    "mit_check=ModelInferenceTime(n_samples=no_rows)\n"
   ]
  },
  {
   "cell_type": "code",
   "execution_count": 64,
   "id": "c201e4fe",
   "metadata": {
    "scrolled": true
   },
   "outputs": [],
   "source": [
    "mit_check_result=mit_check.run(test_data,model=svd)"
   ]
  },
  {
   "cell_type": "code",
   "execution_count": 65,
   "id": "0c342b6f",
   "metadata": {},
   "outputs": [
    {
     "data": {
      "application/vnd.jupyter.widget-view+json": {
       "model_id": "af838e3c18104c83a486229748fb74e6",
       "version_major": 2,
       "version_minor": 0
      },
      "text/plain": [
       "VBox(children=(HTML(value='<h4><b>Model Inference Time</b></h4>'), HTML(value='<p>Measure model average infere…"
      ]
     },
     "metadata": {},
     "output_type": "display_data"
    }
   ],
   "source": [
    "mit_check_result"
   ]
  },
  {
   "cell_type": "markdown",
   "id": "1504a665",
   "metadata": {},
   "source": [
    "### Model Info"
   ]
  },
  {
   "cell_type": "code",
   "execution_count": 66,
   "id": "3b3cbcc3",
   "metadata": {},
   "outputs": [],
   "source": [
    "from deepchecks.tabular.checks import ModelInfo"
   ]
  },
  {
   "cell_type": "code",
   "execution_count": 68,
   "id": "25999e3a",
   "metadata": {},
   "outputs": [
    {
     "name": "stderr",
     "output_type": "stream",
     "text": [
      "/Users/suyashsrivastava/miniforge3/envs/drig/lib/python3.9/site-packages/deepchecks/tabular/utils/task_inference.py:66: FutureWarning:\n",
      "\n",
      "The default dtype for empty Series will be 'object' instead of 'float64' in a future version. Specify a dtype explicitly to silence this warning.\n",
      "\n"
     ]
    }
   ],
   "source": [
    "mi_check=ModelInfo()\n",
    "mi_check_result=mi_check.run(svd)"
   ]
  },
  {
   "cell_type": "code",
   "execution_count": 69,
   "id": "0c31f51a",
   "metadata": {},
   "outputs": [
    {
     "data": {
      "application/vnd.jupyter.widget-view+json": {
       "model_id": "455c468c6b6941f393b1ab5e09ddfff0",
       "version_major": 2,
       "version_minor": 0
      },
      "text/plain": [
       "VBox(children=(HTML(value='<h4><b>Model Info</b></h4>'), HTML(value='<p>Summarize given model parameters. <a h…"
      ]
     },
     "metadata": {},
     "output_type": "display_data"
    }
   ],
   "source": [
    "mi_check_result"
   ]
  },
  {
   "cell_type": "markdown",
   "id": "69d9e3a1",
   "metadata": {},
   "source": [
    "### Regression Error Distribution & Systematic Error  (may not be for our case)"
   ]
  },
  {
   "cell_type": "code",
   "execution_count": 70,
   "id": "cd43bc31",
   "metadata": {},
   "outputs": [],
   "source": [
    "from deepchecks.tabular.checks import RegressionErrorDistribution"
   ]
  },
  {
   "cell_type": "code",
   "execution_count": 71,
   "id": "cd83f464",
   "metadata": {
    "scrolled": true
   },
   "outputs": [],
   "source": [
    "red_check=RegressionErrorDistribution(n_samples=no_rows)"
   ]
  },
  {
   "cell_type": "code",
   "execution_count": 72,
   "id": "084f6bf4",
   "metadata": {},
   "outputs": [
    {
     "data": {
      "application/vnd.jupyter.widget-view+json": {
       "model_id": "7e38eb4433df4bff820e0ead319e9d0c",
       "version_major": 2,
       "version_minor": 0
      },
      "text/plain": [
       "VBox(children=(HTML(value='<h4><b>Regression Error Distribution</b></h4>'), HTML(value='<p>Check for systemati…"
      ]
     },
     "metadata": {},
     "output_type": "display_data"
    }
   ],
   "source": [
    "red_check_train_result=red_check.run(train_data,svd)\n",
    "red_check_train_result"
   ]
  },
  {
   "cell_type": "code",
   "execution_count": 73,
   "id": "ed16ce7b",
   "metadata": {},
   "outputs": [
    {
     "data": {
      "application/vnd.jupyter.widget-view+json": {
       "model_id": "85e5a2bc1ab34f698450c14495c5611d",
       "version_major": 2,
       "version_minor": 0
      },
      "text/plain": [
       "VBox(children=(HTML(value='<h4><b>Regression Error Distribution</b></h4>'), HTML(value='<p>Check for systemati…"
      ]
     },
     "metadata": {},
     "output_type": "display_data"
    }
   ],
   "source": [
    "red_check_test_result=red_check.run(test_data,svd)\n",
    "red_check_test_result"
   ]
  },
  {
   "cell_type": "markdown",
   "id": "90e2ba09",
   "metadata": {},
   "source": [
    "### Regression Systematic Error"
   ]
  },
  {
   "cell_type": "code",
   "execution_count": 74,
   "id": "225c2ee7",
   "metadata": {},
   "outputs": [],
   "source": [
    "from deepchecks.tabular.checks import RegressionSystematicError"
   ]
  },
  {
   "cell_type": "code",
   "execution_count": 76,
   "id": "36f380b3",
   "metadata": {},
   "outputs": [
    {
     "name": "stderr",
     "output_type": "stream",
     "text": [
      "/var/folders/y_/57tt34_d2hj8r5l_jx6g08bh0000gn/T/ipykernel_98844/3051974168.py:1: DeprecationWarning:\n",
      "\n",
      "RegressionSystematicError check is deprecated and will be removed in future version, please use RegressionErrorDistribution check instead.\n",
      "\n"
     ]
    }
   ],
   "source": [
    "rse_check=RegressionSystematicError(n_samples=no_rows)"
   ]
  },
  {
   "cell_type": "code",
   "execution_count": 77,
   "id": "48335917",
   "metadata": {},
   "outputs": [],
   "source": [
    "rse_check_result_train=rse_check.run(train_data,svd)\n",
    "rse_check_result_test=rse_check.run(test_data,svd)"
   ]
  },
  {
   "cell_type": "code",
   "execution_count": 78,
   "id": "1eceb2e6",
   "metadata": {},
   "outputs": [
    {
     "data": {
      "application/vnd.jupyter.widget-view+json": {
       "model_id": "1287752b0a8a4d0dbf4ca0b11fa71aa6",
       "version_major": 2,
       "version_minor": 0
      },
      "text/plain": [
       "VBox(children=(HTML(value='<h4><b>Regression Systematic Error</b></h4>'), HTML(value='<p>Check the regression …"
      ]
     },
     "metadata": {},
     "output_type": "display_data"
    }
   ],
   "source": [
    "rse_check_result_train"
   ]
  },
  {
   "cell_type": "code",
   "execution_count": 79,
   "id": "7c85960e",
   "metadata": {},
   "outputs": [
    {
     "data": {
      "application/vnd.jupyter.widget-view+json": {
       "model_id": "7da29a44f73640999eb6eac0678b58a7",
       "version_major": 2,
       "version_minor": 0
      },
      "text/plain": [
       "VBox(children=(HTML(value='<h4><b>Regression Systematic Error</b></h4>'), HTML(value='<p>Check the regression …"
      ]
     },
     "metadata": {},
     "output_type": "display_data"
    }
   ],
   "source": [
    "rse_check_result_test"
   ]
  },
  {
   "cell_type": "markdown",
   "id": "ccbe3a2b",
   "metadata": {},
   "source": [
    "### Simple Model Comparison"
   ]
  },
  {
   "cell_type": "code",
   "execution_count": 80,
   "id": "08db1a60",
   "metadata": {},
   "outputs": [],
   "source": [
    "from deepchecks.tabular.checks import SimpleModelComparison"
   ]
  },
  {
   "cell_type": "code",
   "execution_count": 81,
   "id": "eb18e821",
   "metadata": {},
   "outputs": [
    {
     "name": "stderr",
     "output_type": "stream",
     "text": [
      "/Users/suyashsrivastava/miniforge3/envs/drig/lib/python3.9/site-packages/deepchecks/tabular/checks/model_evaluation/simple_model_comparison.py:123: DeprecationWarning:\n",
      "\n",
      "SimpleModelComparison: alternative_scorers is deprecated. Please use scorers instead.\n",
      "\n"
     ]
    }
   ],
   "source": [
    "sdc_check=SimpleModelComparison(strategy=\"tree\", alternative_scorers=['neg_rmse',\n",
    "                                        'neg_mae',\n",
    "                                        'r2'], n_samples=20000, max_depth=3)"
   ]
  },
  {
   "cell_type": "code",
   "execution_count": null,
   "id": "4787356c",
   "metadata": {},
   "outputs": [],
   "source": [
    "# sdc_check=SimpleModelComparison(strategy=\"tree\", ,max_depth=2, n_samples=5000)"
   ]
  },
  {
   "cell_type": "code",
   "execution_count": 82,
   "id": "f36bf802",
   "metadata": {},
   "outputs": [],
   "source": [
    "sdc_check_result=sdc_check.run(train_data,test_data,svd)\n"
   ]
  },
  {
   "cell_type": "code",
   "execution_count": 83,
   "id": "709f24d0",
   "metadata": {},
   "outputs": [
    {
     "data": {
      "application/vnd.jupyter.widget-view+json": {
       "model_id": "b43b0c805d2240e880ed2f80d3721db2",
       "version_major": 2,
       "version_minor": 0
      },
      "text/plain": [
       "VBox(children=(HTML(value='<h4><b>Simple Model Comparison</b></h4>'), HTML(value='<p>Compare given model score…"
      ]
     },
     "metadata": {},
     "output_type": "display_data"
    }
   ],
   "source": [
    "sdc_check_result"
   ]
  },
  {
   "cell_type": "markdown",
   "id": "6f0ac8e6",
   "metadata": {},
   "source": [
    "### Single Dataset Performance"
   ]
  },
  {
   "cell_type": "code",
   "execution_count": 84,
   "id": "d5c7864e",
   "metadata": {},
   "outputs": [],
   "source": [
    "from deepchecks.tabular.checks import SingleDatasetPerformance"
   ]
  },
  {
   "cell_type": "code",
   "execution_count": 85,
   "id": "37c5bb06",
   "metadata": {},
   "outputs": [],
   "source": [
    "sdp_check=SingleDatasetPerformance(n_samples=no_rows)\n"
   ]
  },
  {
   "cell_type": "code",
   "execution_count": 86,
   "id": "a3015f21",
   "metadata": {},
   "outputs": [
    {
     "data": {
      "application/vnd.jupyter.widget-view+json": {
       "model_id": "8e8df9cd3f074a7aa068a5e7030179ab",
       "version_major": 2,
       "version_minor": 0
      },
      "text/plain": [
       "VBox(children=(HTML(value='<h4><b>Single Dataset Performance</b></h4>'), HTML(value='<p>Summarize given model …"
      ]
     },
     "metadata": {},
     "output_type": "display_data"
    }
   ],
   "source": [
    "sdp_check_result_train=sdp_check.run(train_data,svd)\n",
    "sdp_check_result_train"
   ]
  },
  {
   "cell_type": "code",
   "execution_count": 87,
   "id": "128051d3",
   "metadata": {},
   "outputs": [
    {
     "data": {
      "application/vnd.jupyter.widget-view+json": {
       "model_id": "3fa0619389074b7797efddf3b67afe8d",
       "version_major": 2,
       "version_minor": 0
      },
      "text/plain": [
       "VBox(children=(HTML(value='<h4><b>Single Dataset Performance</b></h4>'), HTML(value='<p>Summarize given model …"
      ]
     },
     "metadata": {},
     "output_type": "display_data"
    }
   ],
   "source": [
    "sdp_check_result_test=sdp_check.run(test_data,svd)\n",
    "sdp_check_result_test"
   ]
  },
  {
   "cell_type": "markdown",
   "id": "ffb1220d",
   "metadata": {},
   "source": [
    "### Train Test Performance"
   ]
  },
  {
   "cell_type": "code",
   "execution_count": 88,
   "id": "45b83e41",
   "metadata": {},
   "outputs": [],
   "source": [
    "from deepchecks.tabular.checks import TrainTestPerformance"
   ]
  },
  {
   "cell_type": "code",
   "execution_count": 89,
   "id": "6374bbeb",
   "metadata": {},
   "outputs": [],
   "source": [
    "ttp_check=TrainTestPerformance(n_samples=no_rows,scorers=['neg_root_mean_squared_error',\n",
    "                                        'neg_mean_absolute_error',\n",
    "                                        'r2'])"
   ]
  },
  {
   "cell_type": "code",
   "execution_count": 90,
   "id": "d37d1f3c",
   "metadata": {},
   "outputs": [
    {
     "data": {
      "application/vnd.jupyter.widget-view+json": {
       "model_id": "07b90d11899042068422699d01149cce",
       "version_major": 2,
       "version_minor": 0
      },
      "text/plain": [
       "VBox(children=(HTML(value='<h4><b>Train Test Performance</b></h4>'), HTML(value='<p>Summarize given model perf…"
      ]
     },
     "metadata": {},
     "output_type": "display_data"
    }
   ],
   "source": [
    "ttp_check_result=ttp_check.run(train_data,test_data,svd)\n",
    "ttp_check_result"
   ]
  },
  {
   "cell_type": "markdown",
   "id": "a53e4d44",
   "metadata": {},
   "source": [
    "### Train Test Prediction Drift"
   ]
  },
  {
   "cell_type": "code",
   "execution_count": 91,
   "id": "41e37bd3",
   "metadata": {},
   "outputs": [],
   "source": [
    "from deepchecks.tabular.checks import TrainTestPredictionDrift"
   ]
  },
  {
   "cell_type": "code",
   "execution_count": 92,
   "id": "db55b7ed",
   "metadata": {},
   "outputs": [],
   "source": [
    "ttpd_check=TrainTestPredictionDrift(n_samples=no_rows)"
   ]
  },
  {
   "cell_type": "code",
   "execution_count": 93,
   "id": "b53297f6",
   "metadata": {},
   "outputs": [
    {
     "data": {
      "application/vnd.jupyter.widget-view+json": {
       "model_id": "5f177f0aa0d7478aa0f578453e96ca2e",
       "version_major": 2,
       "version_minor": 0
      },
      "text/plain": [
       "VBox(children=(HTML(value='<h4><b>Train Test Prediction Drift</b></h4>'), HTML(value='<p>    Calculate predict…"
      ]
     },
     "metadata": {},
     "output_type": "display_data"
    }
   ],
   "source": [
    "ttpd_check_result=ttpd_check.run(train_data,test_data,svd)\n",
    "ttpd_check_result.show()"
   ]
  }
 ],
 "metadata": {
  "kernelspec": {
   "display_name": "Python 3 (ipykernel)",
   "language": "python",
   "name": "python3"
  },
  "language_info": {
   "codemirror_mode": {
    "name": "ipython",
    "version": 3
   },
   "file_extension": ".py",
   "mimetype": "text/x-python",
   "name": "python",
   "nbconvert_exporter": "python",
   "pygments_lexer": "ipython3",
   "version": "3.9.12"
  }
 },
 "nbformat": 4,
 "nbformat_minor": 5
}
